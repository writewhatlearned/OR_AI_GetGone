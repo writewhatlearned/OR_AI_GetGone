{
 "cells": [
  {
   "metadata": {},
   "cell_type": "markdown",
   "source": "# 线性规划",
   "id": "7ef3a7cbd53cb4b8"
  },
  {
   "metadata": {
    "ExecuteTime": {
     "end_time": "2025-02-13T06:20:54.896061Z",
     "start_time": "2025-02-13T06:20:54.882448Z"
    }
   },
   "cell_type": "code",
   "source": "",
   "id": "2fb718e1259b9cb9",
   "outputs": [],
   "execution_count": null
  }
 ],
 "metadata": {
  "kernelspec": {
   "display_name": "Python 3",
   "language": "python",
   "name": "python3"
  },
  "language_info": {
   "codemirror_mode": {
    "name": "ipython",
    "version": 2
   },
   "file_extension": ".py",
   "mimetype": "text/x-python",
   "name": "python",
   "nbconvert_exporter": "python",
   "pygments_lexer": "ipython2",
   "version": "2.7.6"
  }
 },
 "nbformat": 4,
 "nbformat_minor": 5
}
